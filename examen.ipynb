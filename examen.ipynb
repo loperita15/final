{
 "cells": [
  {
   "cell_type": "markdown",
   "metadata": {},
   "source": [
    "# Examen Parcial de Python Básico"
   ]
  },
  {
   "cell_type": "markdown",
   "metadata": {},
   "source": [
    "## 1. Creación de variables y conceptos básicos\n",
    "\n",
    "1. ¿Qué es una variable en Python y cómo se declara?\n",
    "\n",
    "2. Declara una variable llamada `nombre` y asígnale tu nombre.\n",
    "\n",
    "3. ¿Qué tipos de datos básicos existen en Python? Da un ejemplo de cada uno."
   ]
  },
  {
   "cell_type": "code",
   "execution_count": null,
   "metadata": {},
   "outputs": [],
   "source": [
    "# los tipos de datos basicos son bool,str,int,y floar\n",
    "\n",
    "int(1,2,4) # enteros\n",
    "float (1,3,2,6,2,9)# decimales\n",
    "bool (True or False) \n",
    "str (\"9\"),\"kevin\": \"ayer\" "
   ]
  },
  {
   "cell_type": "code",
   "execution_count": 5,
   "metadata": {},
   "outputs": [
    {
     "name": "stdout",
     "output_type": "stream",
     "text": [
      "kevin lopera\n"
     ]
    }
   ],
   "source": [
    "nombre = \"kevin lopera\" \n",
    "print (\"kevin lopera\" )"
   ]
  },
  {
   "cell_type": "code",
   "execution_count": null,
   "metadata": {},
   "outputs": [],
   "source": [
    "# una variable en python es un tipo de dato mutable sirve para crear un dato  "
   ]
  },
  {
   "cell_type": "markdown",
   "metadata": {},
   "source": [
    "## 2. Operadores matemáticos y lógicos\n",
    "\n",
    "1. ¿Cuáles son los operadores matemáticos básicos en Python? Escribe un ejemplo de cada uno.\n",
    "\n",
    "2. ¿Qué operadores lógicos existen en Python? Da un ejemplo de uso de `and`, `or` y `not`."
   ]
  },
  {
   "cell_type": "code",
   "execution_count": 37,
   "metadata": {},
   "outputs": [
    {
     "name": "stdout",
     "output_type": "stream",
     "text": [
      "chupalo\n",
      "1\n",
      "8333333.333333333\n",
      "4000000000000000000000\n",
      "ambos son positivos\n"
     ]
    }
   ],
   "source": [
    "#los operadores basicos de python son suma + resta - divicion * y multiplicacion /\n",
    "\n",
    "nombre = (\"chupa\" +  \"lo\")\n",
    "print(nombre)\n",
    "\n",
    "nombre = (13-12)\n",
    "print(nombre)\n",
    "\n",
    "nombre = (100000000/12)\n",
    "print(nombre)\n",
    "\n",
    "nombre = (20000000000000000*200000)\n",
    "print(nombre)\n",
    "\n",
    "\n",
    "\n",
    "\n",
    "#como en python existen 3 tipos de operadores logicos y estos son and,or,not\n",
    "\n",
    "z = 9\n",
    "d = 3\n",
    "if z > 6 or d > 3:\n",
    "    print(\"ambos son positivos\")\n",
    "\n",
    "    \n",
    "    if z > 8 and d > 6:\n",
    "        print(\"al menos uno es menos\")\n",
    "\n",
    "        if not z > 9:\n",
    "            print(\"z no es positivo\")"
   ]
  },
  {
   "cell_type": "markdown",
   "metadata": {},
   "source": [
    "## 3. Listas\n",
    "\n",
    "1. ¿Qué es una lista en Python y cómo se declara?\n",
    "\n",
    "2. Crea una lista con los nombres de cinco frutas.\n",
    "\n",
    "3. Escribe un ciclo `for` que imprima cada fruta de la lista."
   ]
  },
  {
   "cell_type": "code",
   "execution_count": null,
   "metadata": {},
   "outputs": [],
   "source": [
    "# una lista en python es una estructura de datos que permite almacenar una secuencia ordenada de elementos"
   ]
  },
  {
   "cell_type": "code",
   "execution_count": 8,
   "metadata": {},
   "outputs": [
    {
     "name": "stdout",
     "output_type": "stream",
     "text": [
      "('manzana', 'pera', 'piña', 'uva', 'guayaba')\n"
     ]
    }
   ],
   "source": [
    "list = (\"manzana\",\"pera\",\"piña\",\"uva\",\"guayaba\")\n",
    "print (list)"
   ]
  },
  {
   "cell_type": "markdown",
   "metadata": {},
   "source": [
    "## 4. Diccionarios\n",
    "\n",
    "1. ¿Qué es un diccionario en Python y para qué se utiliza?\n",
    "\n",
    "2. Crea un diccionario con información de una persona (nombre, edad, ciudad).\n",
    "\n",
    "3. Accede e imprime el valor de la clave `nombre`."
   ]
  },
  {
   "cell_type": "code",
   "execution_count": 12,
   "metadata": {},
   "outputs": [
    {
     "name": "stdout",
     "output_type": "stream",
     "text": [
      "{'nombre': 'kevin', 'edad': '25', 'ciudad': 'san vicente'}\n",
      "kevin lopera\n"
     ]
    }
   ],
   "source": [
    "mi_dicionario = {\n",
    "    \"nombre\": \"kevin\",\n",
    "    \"edad\": \"25\",\n",
    "    \"ciudad\": \"san vicente\",}\n",
    "print(mi_dicionario)\n",
    "\n",
    "mi_dicionario = (nombre)\n",
    "print(mi_dicionario)"
   ]
  },
  {
   "cell_type": "code",
   "execution_count": null,
   "metadata": {},
   "outputs": [],
   "source": [
    "# es una estroctura de datos que almacena pares claves.valor "
   ]
  },
  {
   "cell_type": "markdown",
   "metadata": {},
   "source": [
    "## 5. Tuplas\n",
    "\n",
    "1. ¿Qué es una tupla y en qué se diferencia de una lista?\n",
    "\n",
    "2. Crea una tupla con tres números y muestra el segundo elemento."
   ]
  },
  {
   "cell_type": "code",
   "execution_count": 16,
   "metadata": {},
   "outputs": [
    {
     "name": "stdout",
     "output_type": "stream",
     "text": [
      "0\n"
     ]
    }
   ],
   "source": [
    "my_tupla = (1,0,12,\"hola\")\n",
    "print (my_tupla[1])"
   ]
  },
  {
   "cell_type": "code",
   "execution_count": null,
   "metadata": {},
   "outputs": [],
   "source": [
    "#lo que se difenecia es que las listas son mutables y se pueden cambiar los datos"
   ]
  },
  {
   "cell_type": "markdown",
   "metadata": {},
   "source": [
    "## 6. Conjuntos (sets)\n",
    "\n",
    "1. ¿Qué es un conjunto en Python y para qué se utiliza?\n",
    "\n",
    "2. Crea un conjunto con los números 1, 2, 3, 4, 5 y agrega el número 6.\n",
    "\n",
    "3. Elimina el número 3 del conjunto y muestra el resultado."
   ]
  },
  {
   "cell_type": "code",
   "execution_count": 25,
   "metadata": {},
   "outputs": [
    {
     "name": "stdout",
     "output_type": "stream",
     "text": [
      "{1, 2, 3, 4, 5}\n",
      "{1, 2, 3, 4, 5, 6}\n",
      "{1, 2, 4, 5, 6}\n"
     ]
    }
   ],
   "source": [
    "mi_conjunto = {1,2,3,4,5}\n",
    "print(mi_conjunto)\n",
    "\n",
    "mi_conjunto.add(6)\n",
    "print(mi_conjunto)\n",
    "\n",
    "mi_conjunto.remove(3)\n",
    "print(mi_conjunto)"
   ]
  },
  {
   "cell_type": "code",
   "execution_count": null,
   "metadata": {},
   "outputs": [],
   "source": [
    "#es una estroctura de datos que almacena una colecion de elementos unicos y desordenados "
   ]
  },
  {
   "cell_type": "markdown",
   "metadata": {},
   "source": [
    "## 7. Condicionales\n",
    "\n",
    "1. ¿Para qué se usan las estructuras condicionales en Python?\n",
    "\n",
    "2. Escribe un programa que pida un número y diga si es positivo, negativo o cero."
   ]
  },
  {
   "cell_type": "code",
   "execution_count": 30,
   "metadata": {},
   "outputs": [
    {
     "name": "stdout",
     "output_type": "stream",
     "text": [
      "el numero es positivo. \n"
     ]
    }
   ],
   "source": [
    "numero = float(input(\"ingresa un numero: \"))\n",
    "\n",
    "if numero > 3:\n",
    "    print(\"el numero es positivo. \")\n",
    "elif numero < 3:\n",
    "    print(\"el numeroes negativo. \")\n",
    "else:\n",
    "    print(\"el numeroes negativo.\")\n",
    "\n"
   ]
  },
  {
   "cell_type": "code",
   "execution_count": null,
   "metadata": {},
   "outputs": [],
   "source": [
    "#se usan para tomar deciciones basadas en ciertas condiciones "
   ]
  }
 ],
 "metadata": {
  "kernelspec": {
   "display_name": "Python 3",
   "language": "python",
   "name": "python3"
  },
  "language_info": {
   "codemirror_mode": {
    "name": "ipython",
    "version": 3
   },
   "file_extension": ".py",
   "mimetype": "text/x-python",
   "name": "python",
   "nbconvert_exporter": "python",
   "pygments_lexer": "ipython3",
   "version": "3.13.3"
  }
 },
 "nbformat": 4,
 "nbformat_minor": 2
}
